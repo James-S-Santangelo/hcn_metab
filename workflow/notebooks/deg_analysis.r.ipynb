{
 "cells": [
  {
   "cell_type": "code",
   "execution_count": null,
   "id": "91408fb3",
   "metadata": {},
   "outputs": [],
   "source": [
    "library(tidyverse)\n",
    "library(DESeq2)"
   ]
  },
  {
   "cell_type": "code",
   "execution_count": null,
   "id": "48da2a79-c8c0-46e1-8932-95d52bbc469d",
   "metadata": {},
   "outputs": [],
   "source": [
    "# TODO: Consider filtering counts (e.g. To remove rows with fewer than 10 reads)\n",
    "cts <- read_delim(snakemake@input[[\"counts\"]],delim = \"\\t\", skip = 1) %>% \n",
    "    rename_with(., ~ stringr::str_extract(pattern = \"(?<=\\\\/)\\\\w{4}-\\\\d{1}-\\\\w+-Seq(?=\\\\/)\", string = .x), contains(\"out.bam\")) %>% \n",
    "    column_to_rownames(\"Geneid\") %>% \n",
    "    mutate(total_reads = rowSums(select(., contains(\"Seq\")))) %>% \n",
    "    # filter(total_reads >= 10) %>% \n",
    "    dplyr::select(-Chr, -Start, -End, -Strand, -Length, -total_reads) %>% \n",
    "    as.matrix(.)"
   ]
  },
  {
   "cell_type": "code",
   "execution_count": null,
   "id": "74d8005c-4838-45d0-9fa3-7ca9928f38fc",
   "metadata": {},
   "outputs": [],
   "source": [
    "head(cts)"
   ]
  },
  {
   "cell_type": "code",
   "execution_count": null,
   "id": "527b5fc0-9341-494e-b68a-d99481588f3a",
   "metadata": {},
   "outputs": [],
   "source": [
    "ugt_gene <- \"ACLI19_g12275\"\n",
    "cyp73_gene <- \"ACLI19_g12279\"\n",
    "cyp79_gene <- \"ACLI19_g12294\"\n",
    "li_gene <- \"ACLI19_g37877\""
   ]
  },
  {
   "cell_type": "code",
   "execution_count": null,
   "id": "a1c66170-9349-4e19-8dc1-35f4c555cab6",
   "metadata": {},
   "outputs": [],
   "source": [
    "cts[cyp73_gene,]"
   ]
  },
  {
   "cell_type": "code",
   "execution_count": null,
   "id": "95ed6988-f0ac-4395-8d3d-d3eeea796acc",
   "metadata": {},
   "outputs": [],
   "source": [
    "samples <- read_delim(snakemake@config[[\"sample_sheet\"]], delim = \"\\t\")\n",
    "samples"
   ]
  },
  {
   "cell_type": "code",
   "execution_count": null,
   "id": "4c78b7e9-fd63-4a4e-8d1d-fd4a6b844660",
   "metadata": {},
   "outputs": [],
   "source": [
    "dds <- DESeqDataSetFromMatrix(countData = cts,\n",
    "                              colData = samples,\n",
    "                              design = ~ cyanotype + tissue)\n",
    "dds$group <- factor(paste0(dds$cyanotype, dds$tissue))\n",
    "design(dds) <- ~ group\n",
    "dds"
   ]
  },
  {
   "cell_type": "code",
   "execution_count": null,
   "id": "dc4f6c75-da4f-4a5b-a1c8-f656c1087ccf",
   "metadata": {},
   "outputs": [],
   "source": [
    "dds <- DESeq(dds)"
   ]
  },
  {
   "cell_type": "code",
   "execution_count": null,
   "id": "b7433e5c-a098-473a-8bff-e65d61fb216e",
   "metadata": {},
   "outputs": [],
   "source": [
    "d <- plotCounts(dds, gene=li_gene, intgroup=c(\"tissue\", \"cyanotype\"), returnData=TRUE)\n",
    "\n",
    "li_plot <- ggplot(d, aes(x = tissue, y = count)) + \n",
    "    geom_point(aes(shape = cyanotype, color = cyanotype, fill = cyanotype), \n",
    "               size = 6, position=position_dodge(width = 0.5), alpha = 0.7) +\n",
    "    ylab(\"Normalized read count\") + xlab(\"Tissue\") +\n",
    "    scale_color_manual(values=c(\"#C81C00\", \"#0068FF\")) +\n",
    "    theme_classic() +\n",
    "    ggtitle(\"Gene = Li\") +\n",
    "    theme(axis.text = element_text(size = 14),\n",
    "          axis.title = element_text(size = 17),\n",
    "          legend.text = element_text(size = 12),\n",
    "          legend.title = element_text(size = 14),\n",
    "          title = element_text(size = 18))\n",
    "li_plot\n",
    "\n",
    "ggsave(filename = snakemake@output[[\"li_plot\"]], plot = li_plot, device = \"pdf\", width = 8, height = 8, dpi = 600, units = 'in')"
   ]
  },
  {
   "cell_type": "code",
   "execution_count": null,
   "id": "f78c9561-352c-41e0-9867-65e6fe80f976",
   "metadata": {},
   "outputs": [],
   "source": [
    "d <- plotCounts(dds, gene=ugt_gene, intgroup=c(\"tissue\", \"cyanotype\"), returnData=TRUE)\n",
    "\n",
    "ugt_plot <- ggplot(d, aes(x = tissue, y = count)) + \n",
    "    geom_point(aes(shape = cyanotype, color = cyanotype, fill = cyanotype), \n",
    "               size = 6, position=position_dodge(width = 0.5), alpha = 0.7) +\n",
    "    ylab(\"Normalized read count\") + xlab(\"Tissue\") +\n",
    "    scale_color_manual(values=c(\"#C81C00\", \"#0068FF\")) +\n",
    "    theme_classic() +\n",
    "    ggtitle(\"Gene = UGT85K17\") +\n",
    "    theme(axis.text = element_text(size = 14),\n",
    "          axis.title = element_text(size = 17),\n",
    "          legend.text = element_text(size = 12),\n",
    "          legend.title = element_text(size = 14),\n",
    "          title = element_text(size = 18))\n",
    "ugt_plot\n",
    "\n",
    "ggsave(filename = snakemake@output[[\"ugt_plot\"]], plot = ugt_plot, device = \"pdf\", width = 8, height = 8, dpi = 600, units = 'in')"
   ]
  },
  {
   "cell_type": "code",
   "execution_count": null,
   "id": "5e4d8ae7-40c1-4a09-aedf-0ae0ecfd49d0",
   "metadata": {},
   "outputs": [],
   "source": [
    "d <- plotCounts(dds, gene=cyp79_gene, intgroup=c(\"tissue\", \"cyanotype\"), returnData=TRUE)\n",
    "\n",
    "cyp79_plot <- ggplot(d, aes(x = tissue, y = count)) + \n",
    "    geom_point(aes(shape = cyanotype, color = cyanotype, fill = cyanotype), \n",
    "               size = 6, position=position_dodge(width = 0.5), alpha = 0.7) +\n",
    "    ylab(\"Normalized read count\") + xlab(\"Tissue\") +\n",
    "    scale_color_manual(values=c(\"#C81C00\", \"#0068FF\")) +\n",
    "    theme_classic() +\n",
    "    ggtitle(\"Gene = CYP79D15\") +\n",
    "    theme(axis.text = element_text(size = 14),\n",
    "          axis.title = element_text(size = 17),\n",
    "          legend.text = element_text(size = 12),\n",
    "          legend.title = element_text(size = 14),\n",
    "          title = element_text(size = 18))\n",
    "cyp79_plot\n",
    "\n",
    "ggsave(filename = snakemake@output[[\"cyp79_plot\"]], plot = cyp79_plot, device = \"pdf\", width = 8, height = 8, dpi = 600, units = 'in')"
   ]
  },
  {
   "cell_type": "code",
   "execution_count": null,
   "id": "29ed0251-4381-4bdb-9a32-cb96d5dc116e",
   "metadata": {},
   "outputs": [],
   "source": [
    "d <- plotCounts(dds, gene=cyp73_gene, intgroup=c(\"tissue\", \"cyanotype\"), returnData=TRUE)\n",
    "\n",
    "cyp73_plot <- ggplot(d, aes(x = tissue, y = count)) + \n",
    "    geom_point(aes(shape = cyanotype, color = cyanotype, fill = cyanotype), \n",
    "               size = 6, position=position_dodge(width = 0.5), alpha = 0.7) +\n",
    "    ylab(\"Normalized read count\") + xlab(\"Tissue\") +\n",
    "    scale_color_manual(values=c(\"#C81C00\", \"#0068FF\")) +\n",
    "    theme_classic() +\n",
    "    ggtitle(\"Gene = CYP736A187\") +\n",
    "    theme(axis.text = element_text(size = 14),\n",
    "          axis.title = element_text(size = 17),\n",
    "          legend.text = element_text(size = 12),\n",
    "          legend.title = element_text(size = 14),\n",
    "          title = element_text(size = 18))\n",
    "cyp73_plot\n",
    "\n",
    "ggsave(filename = snakemake@output[[\"cyp73_plot\"]], plot = cyp73_plot, device = \"pdf\", width = 8, height = 8, dpi = 600, units = 'in')"
   ]
  }
 ],
 "metadata": {
  "kernelspec": {
   "display_name": "R",
   "language": "R",
   "name": "ir"
  },
  "language_info": {
   "codemirror_mode": "r",
   "file_extension": ".r",
   "mimetype": "text/x-r-source",
   "name": "R",
   "pygments_lexer": "r",
   "version": "4.1.3"
  }
 },
 "nbformat": 4,
 "nbformat_minor": 5
}
