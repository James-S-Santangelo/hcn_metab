{
 "cells": [
  {
   "cell_type": "code",
   "execution_count": null,
   "id": "91408fb3",
   "metadata": {},
   "outputs": [],
   "source": [
    "library(tidyverse)\n",
    "library(DESeq2)"
   ]
  },
  {
   "cell_type": "code",
   "execution_count": null,
   "id": "48da2a79-c8c0-46e1-8932-95d52bbc469d",
   "metadata": {},
   "outputs": [],
   "source": [
    "# TODO: Consider filtering counts (e.g. To remove rows with fewer than 10 reads)\n",
    "cts <- read_delim(snakemake@input[[\"counts\"]],delim = \"\\t\", skip = 1) %>% \n",
    "    rename_with(., ~ stringr::str_extract(pattern = \"(?<=\\\\/)\\\\w{4}-\\\\d{1}-\\\\w+-Seq(?=\\\\/)\", string = .x), contains(\"out.bam\")) %>% \n",
    "    column_to_rownames(\"Geneid\") %>% \n",
    "    mutate(total_reads = rowSums(select(., contains(\"Seq\")))) %>% \n",
    "    # filter(total_reads >= 10) %>% \n",
    "    dplyr::select(-Chr, -Start, -End, -Strand, -Length, -total_reads) %>% \n",
    "    as.matrix(.)"
   ]
  },
  {
   "cell_type": "code",
   "execution_count": null,
   "id": "74d8005c-4838-45d0-9fa3-7ca9928f38fc",
   "metadata": {},
   "outputs": [],
   "source": [
    "head(cts)"
   ]
  },
  {
   "cell_type": "code",
   "execution_count": null,
   "id": "95ed6988-f0ac-4395-8d3d-d3eeea796acc",
   "metadata": {},
   "outputs": [],
   "source": [
    "samples <- read_delim(snakemake@config[[\"sample_sheet\"]], delim = \"\\t\")\n",
    "samples"
   ]
  },
  {
   "cell_type": "code",
   "execution_count": null,
   "id": "4c78b7e9-fd63-4a4e-8d1d-fd4a6b844660",
   "metadata": {},
   "outputs": [],
   "source": [
    "dds <- DESeqDataSetFromMatrix(countData = cts,\n",
    "                              colData = samples,\n",
    "                              design = ~ cyanotype + tissue)\n",
    "dds$group <- factor(paste0(dds$cyanotype, dds$tissue))\n",
    "design(dds) <- ~ group\n",
    "dds"
   ]
  },
  {
   "cell_type": "code",
   "execution_count": null,
   "id": "dc4f6c75-da4f-4a5b-a1c8-f656c1087ccf",
   "metadata": {},
   "outputs": [],
   "source": [
    "dds <- DESeq(dds)"
   ]
  },
  {
   "cell_type": "code",
   "execution_count": null,
   "id": "f78c9561-352c-41e0-9867-65e6fe80f976",
   "metadata": {},
   "outputs": [],
   "source": [
    "resultsNames(dds)"
   ]
  },
  {
   "cell_type": "code",
   "execution_count": null,
   "id": "7859f875-80ce-4e5f-abeb-f2ad5d3be049",
   "metadata": {},
   "outputs": [],
   "source": [
    "ac_gene <- \"ACLI19_g12956\"\n",
    "li_gene <- \"ACLI19_g37877\""
   ]
  },
  {
   "cell_type": "code",
   "execution_count": null,
   "id": "5e4d8ae7-40c1-4a09-aedf-0ae0ecfd49d0",
   "metadata": {},
   "outputs": [],
   "source": [
    "res <- results(dds, contrast = c(\"group\", \"AcLiFlower\", \"AcLiRoot\"))\n",
    "res[li_gene,]"
   ]
  },
  {
   "cell_type": "code",
   "execution_count": null,
   "id": "4b2e58aa-7191-4387-b5c8-75fcdad0ee89",
   "metadata": {},
   "outputs": [],
   "source": [
    "# TODO: Try different shrinkage estimators\n",
    "# Note 'apeglm' is the default\n",
    "# resLFC <- lfcShrink(dds, coef=resultsNames(dds)[2], type=\"apeglm\")\n",
    "# resLFC"
   ]
  },
  {
   "cell_type": "code",
   "execution_count": null,
   "id": "73a1d374-ad50-41e3-9b04-4a37ae427a85",
   "metadata": {
    "scrolled": true
   },
   "outputs": [],
   "source": [
    "summary(res)"
   ]
  },
  {
   "cell_type": "code",
   "execution_count": null,
   "id": "2cc76423-a63b-4511-81db-2943ec1b6e4f",
   "metadata": {},
   "outputs": [],
   "source": [
    "plotMA(res)"
   ]
  },
  {
   "cell_type": "code",
   "execution_count": null,
   "id": "b7433e5c-a098-473a-8bff-e65d61fb216e",
   "metadata": {},
   "outputs": [],
   "source": [
    "d <- plotCounts(dds, gene=li_gene, intgroup=c(\"tissue\", \"cyanotype\"), returnData=TRUE)\n",
    "\n",
    "ggplot(d, aes(x = tissue, y = count)) + \n",
    "    geom_point(aes(shape = cyanotype, color = cyanotype, fill = cyanotype), size = 4.5) +\n",
    "    ylab(\"Normalized read count\") + xlab(\"Tissue\") +\n",
    "    theme_classic() +\n",
    "    theme(axis.text = element_text(size = 14),\n",
    "          axis.title = element_text(size = 17),\n",
    "          legend.text = element_text(size = 12),\n",
    "          legend.title = element_text(size = 14))"
   ]
  },
  {
   "cell_type": "code",
   "execution_count": null,
   "id": "6f07e0ff-92f7-44c0-900a-de70aa6ce2c0",
   "metadata": {},
   "outputs": [],
   "source": [
    "d"
   ]
  },
  {
   "cell_type": "code",
   "execution_count": null,
   "id": "ce3dc0f8-1440-468e-89bc-cca0b73a288b",
   "metadata": {},
   "outputs": [],
   "source": []
  }
 ],
 "metadata": {
  "kernelspec": {
   "display_name": "R",
   "language": "R",
   "name": "ir"
  },
  "language_info": {
   "codemirror_mode": "r",
   "file_extension": ".r",
   "mimetype": "text/x-r-source",
   "name": "R",
   "pygments_lexer": "r",
   "version": "4.1.3"
  }
 },
 "nbformat": 4,
 "nbformat_minor": 5
}
